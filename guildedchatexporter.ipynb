{
  "nbformat": 4,
  "nbformat_minor": 0,
  "metadata": {
    "colab": {
      "provenance": [],
      "mount_file_id": "1n58HaIw23VU3RNYpJsDwpkxMtRP4giJY",
      "authorship_tag": "ABX9TyO99DMm1rAPu8MAHE62O6ug",
      "include_colab_link": true
    },
    "kernelspec": {
      "name": "python3",
      "display_name": "Python 3"
    },
    "language_info": {
      "name": "python"
    }
  },
  "cells": [
    {
      "cell_type": "markdown",
      "metadata": {
        "id": "view-in-github",
        "colab_type": "text"
      },
      "source": [
        "<a href=\"https://colab.research.google.com/github/Fatih120/GuildedChatExporter/blob/main/guildedchatexporter.ipynb\" target=\"_parent\"><img src=\"https://colab.research.google.com/assets/colab-badge.svg\" alt=\"Open In Colab\"/></a>"
      ]
    },
    {
      "cell_type": "code",
      "execution_count": null,
      "metadata": {
        "id": "eKEPJjYptE2I"
      },
      "outputs": [],
      "source": [
        "# @title Basic setup\n",
        "API_KEY = \"\" # @param {type:\"string\"}\n",
        "#SERVER_ID = \"\" # @param {type:\"string\"}\n",
        "CHANNEL_ID = \"\" # @param {type:\"string\"}\n",
        "SAVE_DIRECTORY = \"/content/drive/MyDrive/guildedchatexporter/\" # @param {type:\"string\"}\n",
        "import requests\n",
        "import json\n",
        "import os\n",
        "import re\n",
        "\n",
        "headers = {\n",
        "    'Authorization': f'Bearer {API_KEY}',\n",
        "    'Accept': 'application/json',\n",
        "    'Content-Type': 'application/json'\n",
        "}\n",
        "SERVER_URL = f'https://www.guilded.gg/api/v1/servers/{SERVER_ID}'\n",
        "CHANNEL_URL = f'https://www.guilded.gg/api/v1/channels/{CHANNEL_ID}/messages'\n"
      ]
    },
    {
      "cell_type": "code",
      "source": [
        "# @title Use Google Drive\n",
        "from google.colab import drive\n",
        "drive.mount('/content/drive')"
      ],
      "metadata": {
        "id": "6N-DxYLWPJG5"
      },
      "execution_count": null,
      "outputs": []
    },
    {
      "cell_type": "code",
      "source": [
        "# @title Get Messages\n",
        "def get_channel_messages(channel_id, after=None, limit=100):\n",
        "    params = {\n",
        "        'limit': limit,\n",
        "        'after': after\n",
        "    }\n",
        "    url = f'https://www.guilded.gg/api/v1/channels/{channel_id}/messages'\n",
        "    response = requests.get(url, headers=headers, params=params)\n",
        "    response.raise_for_status()\n",
        "    return response.json()\n",
        "\n",
        "def fetch_all_messages(channel_id):\n",
        "    all_messages = []\n",
        "    after = \"2015-01-01T00:00:00.000Z\"\n",
        "\n",
        "    while True:\n",
        "        data = get_channel_messages(channel_id, after=after, limit=100)\n",
        "        messages = data.get('messages', [])\n",
        "        all_messages.extend(messages)\n",
        "\n",
        "        if len(messages) < 100:\n",
        "            break\n",
        "\n",
        "        after = messages[-1]['createdAt']\n",
        "\n",
        "    return all_messages\n",
        "\n",
        "all_messages = fetch_all_messages(CHANNEL_ID)\n",
        "\n",
        "#uncomment if you wanna see the output for yourself\n",
        "#print(json.dumps(all_messages, indent=4))\n"
      ],
      "metadata": {
        "id": "YWZ59XqX94_u"
      },
      "execution_count": null,
      "outputs": []
    },
    {
      "cell_type": "code",
      "source": [
        "# @title Save to HTML File to /guildedchatexporter/(channelid).html\n",
        "\n",
        "with open(f'{SAVE_DIRECTORY}{CHANNEL_ID}.txt', 'w', encoding='utf-8') as file:\n",
        "    for message in all_messages:\n",
        "        created_by = message['createdBy']\n",
        "        created_at = message['createdAt']\n",
        "        content = message['content']\n",
        "        formatted_message = f\"[{created_by}] ({created_at}): {content}\\n\"\n",
        "        file.write(formatted_message)\n",
        "\n",
        "print(\"Chat log saved\")"
      ],
      "metadata": {
        "colab": {
          "base_uri": "https://localhost:8080/"
        },
        "id": "NQRjAHYpEBcJ",
        "outputId": "7aaf7adc-6418-4408-8750-364d66fd002b"
      },
      "execution_count": null,
      "outputs": [
        {
          "output_type": "stream",
          "name": "stdout",
          "text": [
            "Chat log saved\n"
          ]
        }
      ]
    },
    {
      "cell_type": "code",
      "source": [
        "# @title Download File Attachments to /guildedchatexporter/(channelid)/attachments/.*\n",
        "def download_attachments(messages, output_dir):\n",
        "    os.makedirs(output_dir, exist_ok=True)\n",
        "    url_pattern = r'!\\[(.*?)\\]\\((.*?)\\)'\n",
        "\n",
        "    for message in messages:\n",
        "        content = message['content']\n",
        "        matches = re.findall(url_pattern, content)\n",
        "\n",
        "        for match in matches:\n",
        "            url = match[1]\n",
        "            filename = os.path.join(output_dir, os.path.basename(url))\n",
        "\n",
        "            try:\n",
        "                response = requests.get(url)\n",
        "                response.raise_for_status()\n",
        "\n",
        "                with open(filename, 'wb') as file:\n",
        "                    file.write(response.content)\n",
        "\n",
        "                print(f\"Downloaded attachment from {url} to {filename}\")\n",
        "            except requests.exceptions.RequestException as e:\n",
        "                print(f\"Error downloading attachment from {url}: {e}\")\n",
        "\n",
        "all_messages = fetch_all_messages(CHANNEL_ID)\n",
        "output_dir = f'{SAVE_DIRECTORY}{CHANNEL_ID}'\n",
        "download_attachments(all_messages, output_dir)"
      ],
      "metadata": {
        "id": "8ygSAjQrMnvx"
      },
      "execution_count": null,
      "outputs": []
    },
    {
      "cell_type": "markdown",
      "source": [
        "# go grab your files if you're all done\n",
        "you can shift+click the html and the whole channel attachments and download as zip (or run this code in your own python env if you dont want google)"
      ],
      "metadata": {
        "id": "4CqOr283iGm1"
      }
    }
  ]
}